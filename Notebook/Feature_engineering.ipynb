{
 "cells": [
  {
   "cell_type": "code",
   "execution_count": 1,
   "id": "8afa966c",
   "metadata": {},
   "outputs": [
    {
     "name": "stdout",
     "output_type": "stream",
     "text": [
      "Feature engineering complete! Data saved as 'feature_engineered_nifty5.csv'\n"
     ]
    }
   ],
   "source": [
    "import pandas as pd\n",
    "import numpy as np\n",
    "\n",
    "# Load cleaned data\n",
    "df = pd.read_csv(r\"C:\\My stuff\\Coding\\ML project\\KiranveerSingh_projectfinal\\Dataset\\cleaned_nifty5_labeled.csv\")\n",
    "df['Date'] = pd.to_datetime(df['Date'])\n",
    "\n",
    "# --- Moving Averages ---\n",
    "for window in [5, 10, 20]:\n",
    "    df[f\"SMA_{window}\"] = df.groupby(\"Symbol\")[\"Close\"].transform(lambda x: x.rolling(window).mean())\n",
    "\n",
    "# --- Daily Returns ---\n",
    "df['Return_1D'] = df.groupby('Symbol')['Close'].pct_change()\n",
    "\n",
    "# --- Rolling Volatility ---\n",
    "df['Volatility_10'] = df.groupby('Symbol')['Return_1D'].transform(lambda x: x.rolling(10).std())\n",
    "\n",
    "# --- Price Ratios ---\n",
    "df['High_Low_Ratio'] = df['High'] / df['Low']\n",
    "df['Open_Close_Ratio'] = df['Open'] / df['Close']\n",
    "\n",
    "# --- Volume Features ---\n",
    "df['Volume_SMA_10'] = df.groupby('Symbol')['Volume'].transform(lambda x: x.rolling(10).mean())\n",
    "df['Volume_Ratio'] = df['Volume'] / df['Volume_SMA_10']\n",
    "\n",
    "# --- Lagged Features (prices and volume) ---\n",
    "for lag in [1, 2, 3]:\n",
    "    df[f'Close_Lag_{lag}'] = df.groupby('Symbol')['Close'].shift(lag)\n",
    "    df[f'Volume_Lag_{lag}'] = df.groupby('Symbol')['Volume'].shift(lag)\n",
    "\n",
    "# --- RSI Calculation (14-day window) ---\n",
    "def calc_rsi(series, period=14):\n",
    "    delta = series.diff()\n",
    "    up = delta.clip(lower=0)\n",
    "    down = -1 * delta.clip(upper=0)\n",
    "    ema_up = up.ewm(com=period-1, adjust=False).mean()\n",
    "    ema_down = down.ewm(com=period-1, adjust=False).mean()\n",
    "    rs = ema_up / ema_down\n",
    "    rsi = 100 - (100 / (1 + rs))\n",
    "    return rsi\n",
    "\n",
    "df['RSI_14'] = df.groupby(\"Symbol\")[\"Close\"].transform(lambda x: calc_rsi(x, 14))\n",
    "\n",
    "# --- Remove rows with any missing values (due to rolling/lags) ---\n",
    "df = df.dropna().reset_index(drop=True)\n",
    "\n",
    "# --- Save engineered features for modeling ---\n",
    "df.to_csv(r\"C:\\My stuff\\Coding\\ML project\\KiranveerSingh_projectfinal\\Dataset\\feature_engineered_nifty5.csv\", index=False)\n",
    "\n",
    "print(\"Feature engineering complete! Data saved as 'feature_engineered_nifty5.csv'\")\n"
   ]
  },
  {
   "cell_type": "code",
   "execution_count": null,
   "id": "3aefc89c",
   "metadata": {},
   "outputs": [],
   "source": []
  }
 ],
 "metadata": {
  "kernelspec": {
   "display_name": "Python 3",
   "language": "python",
   "name": "python3"
  },
  "language_info": {
   "codemirror_mode": {
    "name": "ipython",
    "version": 3
   },
   "file_extension": ".py",
   "mimetype": "text/x-python",
   "name": "python",
   "nbconvert_exporter": "python",
   "pygments_lexer": "ipython3",
   "version": "3.13.5"
  }
 },
 "nbformat": 4,
 "nbformat_minor": 5
}
