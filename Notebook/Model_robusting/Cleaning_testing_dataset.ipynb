{
 "cells": [
  {
   "cell_type": "code",
   "execution_count": 25,
   "id": "9b26acf9",
   "metadata": {},
   "outputs": [],
   "source": [
    "import pandas as pd\n",
    "import numpy as np\n",
    "\n",
    "# Load data and unify column names\n",
    "df = pd.read_csv(r\"C:\\My stuff\\Coding\\ML project\\KiranveerSingh_projectfinal\\Notebook\\Model_robusting\\HDFCBANK.csv\")\n",
    "df.columns = df.columns.str.strip().str.replace(' ', '_').str.replace('(', '').str.replace(')', '')\n",
    "\n",
    "# Parse date\n",
    "df['Date'] = pd.to_datetime(df['Date'], errors='coerce')\n",
    "\n",
    "# Standardize price columns\n",
    "col_map = {\n",
    "    'Open': 'Open',\n",
    "    'High': 'High',\n",
    "    'Low': 'Low',\n",
    "    'Last_Traded_Price': 'Close',  # Adjust if 'Close' is directly available\n",
    "    'Close': 'Close',  # Prefer 'Close' if present\n",
    "    'Share_Volume': 'Volume',\n",
    "    'Symbol': 'Symbol',\n",
    "    'Series': 'Series'\n",
    "}\n",
    "# If both 'Close' and 'Last_Traded_Price' present, prefer 'Close'\n",
    "if 'Close' in df.columns:\n",
    "    df['Close'] = pd.to_numeric(df['Close'], errors='coerce')\n",
    "elif 'Last_Traded_Price' in df.columns:\n",
    "    df['Close'] = pd.to_numeric(df['Last_Traded_Price'], errors='coerce')\n",
    "\n",
    "# Convert numerics\n",
    "for col in ['Open', 'High', 'Low', 'Volume']:\n",
    "    if col in df.columns:\n",
    "        df[col] = pd.to_numeric(df[col], errors='coerce')\n",
    "\n",
    "# Drop duplicates & invalid data\n",
    "df = df.drop_duplicates(subset=['Symbol', 'Date'])\n",
    "df = df.dropna(subset=['Open', 'High', 'Low', 'Close', 'Volume'])\n",
    "for col in ['Open', 'High', 'Low', 'Close', 'Volume']:\n",
    "    df = df[df[col] > 0]\n",
    "\n",
    "# Sort by date for each symbol\n",
    "df = df.sort_values(['Symbol', 'Date']).reset_index(drop=True)\n"
   ]
  },
  {
   "cell_type": "code",
   "execution_count": 26,
   "id": "1388f7c6",
   "metadata": {},
   "outputs": [
    {
     "name": "stderr",
     "output_type": "stream",
     "text": [
      "C:\\Users\\mrran\\AppData\\Local\\Temp\\ipykernel_23288\\2388469121.py:7: FutureWarning: DataFrameGroupBy.apply operated on the grouping columns. This behavior is deprecated, and in a future version of pandas the grouping columns will be excluded from the operation. Either pass `include_groups=False` to exclude the groupings or explicitly select the grouping columns after groupby to silence this warning.\n",
      "  df = df.groupby('Symbol', group_keys=False).apply(lambda g: g.iloc[:-1]).reset_index(drop=True)\n"
     ]
    }
   ],
   "source": [
    "# Create target: Will_Grow == 1 if next day's close > today's, else 0\n",
    "df['Next_Close'] = df.groupby('Symbol')['Close'].shift(-1)\n",
    "df['Will_Grow'] = (df['Next_Close'] > df['Close']).astype(int)\n",
    "df = df.drop(columns=['Next_Close'])\n",
    "\n",
    "# Remove last row per symbol with undefined target\n",
    "df = df.groupby('Symbol', group_keys=False).apply(lambda g: g.iloc[:-1]).reset_index(drop=True)\n"
   ]
  },
  {
   "cell_type": "code",
   "execution_count": 28,
   "id": "51f9b655",
   "metadata": {},
   "outputs": [
    {
     "name": "stdout",
     "output_type": "stream",
     "text": [
      "Saved cleaned and feature-engineered data to 'cleaned_featured_HDFCBANK.csv'\n",
      "        Date    Symbol Series  Prev_Close    Open     High      Low     Last  \\\n",
      "0 2011-06-28  HDFCBANK     EQ     2416.15  2429.4  2430.00  2404.55  2424.65   \n",
      "1 2011-06-29  HDFCBANK     EQ     2423.05  2435.0  2499.00  2435.00  2495.00   \n",
      "2 2011-06-30  HDFCBANK     EQ     2489.10  2499.0  2524.95  2476.15  2503.50   \n",
      "3 2011-07-01  HDFCBANK     EQ     2515.55  2540.0  2547.60  2478.00  2501.35   \n",
      "4 2011-07-04  HDFCBANK     EQ     2501.25  2535.0  2542.00  2512.40  2536.00   \n",
      "\n",
      "     Close     VWAP  ...  Open_Close_Ratio  Volume_SMA_10  Volume_Ratio  \\\n",
      "0  2423.05  2419.64  ...          1.002621       631161.4      0.965967   \n",
      "1  2489.10  2467.29  ...          0.978265       663296.4      1.545680   \n",
      "2  2515.55  2506.02  ...          0.993421       755375.9      1.776678   \n",
      "3  2501.25  2497.60  ...          1.015492       750832.7      0.886006   \n",
      "4  2532.20  2528.72  ...          1.001106       744321.0      0.962176   \n",
      "\n",
      "   Close_Lag_1  Volume_Lag_1  Close_Lag_2  Volume_Lag_2  Close_Lag_3  \\\n",
      "0      2416.15     1025619.0      2383.15      828773.0      2333.75   \n",
      "1      2423.05      609681.0      2416.15     1025619.0      2383.15   \n",
      "2      2489.10     1025244.0      2423.05      609681.0      2416.15   \n",
      "3      2515.55     1342060.0      2489.10     1025244.0      2423.05   \n",
      "4      2501.25      665242.0      2515.55     1342060.0      2489.10   \n",
      "\n",
      "   Volume_Lag_3     RSI_14  \n",
      "0      413379.0  38.826012  \n",
      "1      828773.0  49.501337  \n",
      "2     1025619.0  53.035765  \n",
      "3      609681.0  50.959148  \n",
      "4     1025244.0  55.060483  \n",
      "\n",
      "[5 rows x 32 columns]\n"
     ]
    }
   ],
   "source": [
    "# Moving averages\n",
    "for window in [5, 10, 20]:\n",
    "    df[f\"SMA_{window}\"] = df.groupby(\"Symbol\")[\"Close\"].transform(lambda x: x.rolling(window).mean())\n",
    "\n",
    "# Daily returns\n",
    "df['Return_1D'] = df.groupby('Symbol')['Close'].pct_change()\n",
    "\n",
    "# Volatility\n",
    "df['Volatility_10'] = df.groupby('Symbol')['Return_1D'].transform(lambda x: x.rolling(10).std())\n",
    "\n",
    "# Price ratios\n",
    "df['High_Low_Ratio'] = df['High'] / df['Low']\n",
    "df['Open_Close_Ratio'] = df['Open'] / df['Close']\n",
    "\n",
    "# Volume spike vs. 10-day rolling mean\n",
    "df['Volume_SMA_10'] = df.groupby('Symbol')['Volume'].transform(lambda x: x.rolling(10).mean())\n",
    "df['Volume_Ratio'] = df['Volume'] / df['Volume_SMA_10']\n",
    "\n",
    "# Lagged close and volume\n",
    "for lag in [1, 2, 3]:\n",
    "    df[f'Close_Lag_{lag}'] = df.groupby('Symbol')['Close'].shift(lag)\n",
    "    df[f'Volume_Lag_{lag}'] = df.groupby('Symbol')['Volume'].shift(lag)\n",
    "\n",
    "# RSI Calculation\n",
    "def calc_rsi(series, period=14):\n",
    "    delta = series.diff()\n",
    "    up = delta.clip(lower=0)\n",
    "    down = -1 * delta.clip(upper=0)\n",
    "    ema_up = up.ewm(com=period-1, adjust=False).mean()\n",
    "    ema_down = down.ewm(com=period-1, adjust=False).mean()\n",
    "    rs = ema_up / ema_down\n",
    "    rsi = 100 - (100 / (1 + rs))\n",
    "    return rsi\n",
    "\n",
    "df['RSI_14'] = df.groupby(\"Symbol\")[\"Close\"].transform(lambda x: calc_rsi(x, 14))\n",
    "\n",
    "# Drop rows with NaN caused by rolling/lags\n",
    "df = df.dropna().reset_index(drop=True)\n",
    "\n",
    "# Save the processed data\n",
    "df.to_csv(\"cleaned_featured_nifty500.csv\", index=False)\n",
    "\n",
    "print(\"Saved cleaned and feature-engineered data to 'cleaned_featured_HDFCBANK.csv'\")\n",
    "print(df.head())\n"
   ]
  },
  {
   "cell_type": "code",
   "execution_count": null,
   "id": "cf6be5a2",
   "metadata": {},
   "outputs": [],
   "source": []
  }
 ],
 "metadata": {
  "kernelspec": {
   "display_name": "Python 3",
   "language": "python",
   "name": "python3"
  },
  "language_info": {
   "codemirror_mode": {
    "name": "ipython",
    "version": 3
   },
   "file_extension": ".py",
   "mimetype": "text/x-python",
   "name": "python",
   "nbconvert_exporter": "python",
   "pygments_lexer": "ipython3",
   "version": "3.13.5"
  }
 },
 "nbformat": 4,
 "nbformat_minor": 5
}
