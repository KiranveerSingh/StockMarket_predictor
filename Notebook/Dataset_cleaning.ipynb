{
 "cells": [
  {
   "cell_type": "code",
   "execution_count": 2,
   "id": "2488fb31",
   "metadata": {},
   "outputs": [
    {
     "name": "stderr",
     "output_type": "stream",
     "text": [
      "C:\\Users\\mrran\\AppData\\Local\\Temp\\ipykernel_22468\\27614361.py:31: FutureWarning: DataFrameGroupBy.apply operated on the grouping columns. This behavior is deprecated, and in a future version of pandas the grouping columns will be excluded from the operation. Either pass `include_groups=False` to exclude the groupings or explicitly select the grouping columns after groupby to silence this warning.\n",
      "  df = df.groupby('Symbol', group_keys=False).apply(lambda g: g.ffill().bfill())\n"
     ]
    }
   ],
   "source": [
    "import pandas as pd\n",
    "import numpy as np\n",
    "\n",
    "# Load the dataset\n",
    "df = pd.read_csv(r\"C:\\My stuff\\Coding\\ML project\\KiranveerSingh_projectfinal\\Dataset\\NIFTY-5.csv\")\n",
    "\n",
    "# Parse the 'Date' column\n",
    "df['Date'] = pd.to_datetime(df['Date'], errors='coerce')\n",
    "\n",
    "# Sort by company and date\n",
    "df = df.sort_values(by=['Symbol', 'Date']).reset_index(drop=True)\n",
    "\n",
    "# Drop exact duplicate rows (by Symbol and Date)\n",
    "df = df.drop_duplicates(subset=['Symbol', 'Date'])\n",
    "\n",
    "# Define required columns for cleaning\n",
    "critical_cols = ['Open', 'High', 'Low', 'Close', 'Volume']\n",
    "\n",
    "# Remove rows with missing values in critical columns\n",
    "df = df.dropna(subset=critical_cols)\n",
    "\n",
    "# Convert numeric columns, handle non-numeric issues\n",
    "for col in critical_cols:\n",
    "    df[col] = pd.to_numeric(df[col], errors='coerce')\n",
    "\n",
    "# Remove rows where price or volume columns are negative or zero\n",
    "for col in ['Open', 'High', 'Low', 'Close', 'Volume']:\n",
    "    df = df[df[col] > 0]\n",
    "\n",
    "# Forward-fill, then backward-fill missing values per company (if any)\n",
    "df = df.groupby('Symbol', group_keys=False).apply(lambda g: g.ffill().bfill())\n",
    "\n"
   ]
  },
  {
   "cell_type": "code",
   "execution_count": 3,
   "id": "bec143c4",
   "metadata": {},
   "outputs": [
    {
     "name": "stdout",
     "output_type": "stream",
     "text": [
      "Saved cleaned and labeled dataset as 'cleaned_nifty5_labeled.csv'. Top rows:\n",
      "        Date      Symbol    Open    High     Low   Close     Volume  Will_Grow\n",
      "0 2015-01-01  ADANIPORTS  319.00  322.50  316.25  319.55  1456204.0          0\n",
      "1 2015-01-04  ADANIPORTS  308.45  312.05  306.10  310.95  1026200.0          1\n",
      "2 2015-01-06  ADANIPORTS  325.80  325.80  308.25  311.55  3889157.0          0\n",
      "3 2015-01-07  ADANIPORTS  308.80  312.70  306.50  311.30  2854143.0          1\n",
      "4 2015-01-09  ADANIPORTS  344.95  354.75  339.00  342.25  3654461.0          0\n",
      "5 2015-01-10  ADANIPORTS  302.95  307.10  298.50  305.05  4450444.0          0\n",
      "6 2015-01-12  ADANIPORTS  269.00  269.35  261.10  263.25  5104457.0          1\n",
      "7 2015-02-01  ADANIPORTS  319.35  325.80  318.05  319.35  2894058.0          1\n",
      "8 2015-02-02  ADANIPORTS  339.50  343.90  333.00  335.90  1735161.0          0\n",
      "9 2015-02-03  ADANIPORTS  334.50  335.60  325.60  330.35  2592113.0          0\n"
     ]
    },
    {
     "name": "stderr",
     "output_type": "stream",
     "text": [
      "C:\\Users\\mrran\\AppData\\Local\\Temp\\ipykernel_22468\\2990561921.py:10: FutureWarning: DataFrameGroupBy.apply operated on the grouping columns. This behavior is deprecated, and in a future version of pandas the grouping columns will be excluded from the operation. Either pass `include_groups=False` to exclude the groupings or explicitly select the grouping columns after groupby to silence this warning.\n",
      "  df = df.groupby('Symbol', group_keys=False).apply(lambda g: g.iloc[:-1]).reset_index(drop=True)\n"
     ]
    }
   ],
   "source": [
    "# --- Target column creation ---\n",
    "# Create the 'Will_Grow' column: 1 if next day's close is higher, else 0\n",
    "df['Next_Close'] = df.groupby('Symbol')['Close'].shift(-1)\n",
    "df['Will_Grow'] = (df['Next_Close'] > df['Close']).astype(int)\n",
    "\n",
    "# Drop the helper column\n",
    "df = df.drop(columns=['Next_Close'])\n",
    "\n",
    "# Remove the last row of each symbol (no future day to compare)\n",
    "df = df.groupby('Symbol', group_keys=False).apply(lambda g: g.iloc[:-1]).reset_index(drop=True)\n",
    "\n",
    "# Save cleaned and labeled data\n",
    "df.to_csv(r\"C:\\My stuff\\Coding\\ML project\\KiranveerSingh_projectfinal\\Dataset\\cleaned_nifty5_labeled.csv\", index=False)\n",
    "\n",
    "print(\"Saved cleaned and labeled dataset as 'cleaned_nifty5_labeled.csv'. Top rows:\")\n",
    "print(df[['Date', 'Symbol', 'Open', 'High', 'Low', 'Close', 'Volume', 'Will_Grow']].head(10))"
   ]
  },
  {
   "cell_type": "code",
   "execution_count": null,
   "id": "c7825045",
   "metadata": {},
   "outputs": [],
   "source": []
  }
 ],
 "metadata": {
  "kernelspec": {
   "display_name": "Python 3",
   "language": "python",
   "name": "python3"
  },
  "language_info": {
   "codemirror_mode": {
    "name": "ipython",
    "version": 3
   },
   "file_extension": ".py",
   "mimetype": "text/x-python",
   "name": "python",
   "nbconvert_exporter": "python",
   "pygments_lexer": "ipython3",
   "version": "3.13.5"
  }
 },
 "nbformat": 4,
 "nbformat_minor": 5
}
